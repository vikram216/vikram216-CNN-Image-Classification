{
 "cells": [
  {
   "cell_type": "markdown",
   "metadata": {
    "collapsed": true
   },
   "source": [
    "# Image Classification\n",
    "In this project, you'll classify images from the [CIFAR-10 dataset](https://www.cs.toronto.edu/~kriz/cifar.html).  The dataset consists of airplanes, dogs, cats, and other objects. You'll preprocess the images, then train a convolutional neural network on all the samples. The images need to be normalized and the labels need to be one-hot encoded.  You'll get to apply what you learned and build a convolutional, max pooling, dropout, and fully connected layers.  At the end, you'll get to see your neural network's predictions on the sample images.\n",
    "## Get the Data\n",
    "Run the following cell to download the [CIFAR-10 dataset for python](https://www.cs.toronto.edu/~kriz/cifar-10-python.tar.gz)."
   ]
  },
  {
   "cell_type": "code",
   "execution_count": 1,
   "metadata": {
    "collapsed": false
   },
   "outputs": [
    {
     "name": "stdout",
     "output_type": "stream",
     "text": [
      "All files found!\n"
     ]
    }
   ],
   "source": [
    "\"\"\"\n",
    "DON'T MODIFY ANYTHING IN THIS CELL THAT IS BELOW THIS LINE\n",
    "\"\"\"\n",
    "from urllib.request import urlretrieve\n",
    "from os.path import isfile, isdir\n",
    "from tqdm import tqdm\n",
    "import problem_unittests as tests\n",
    "import tarfile\n",
    "\n",
    "cifar10_dataset_folder_path = 'cifar-10-batches-py'\n",
    "\n",
    "class DLProgress(tqdm):\n",
    "    last_block = 0\n",
    "\n",
    "    def hook(self, block_num=1, block_size=1, total_size=None):\n",
    "        self.total = total_size\n",
    "        self.update((block_num - self.last_block) * block_size)\n",
    "        self.last_block = block_num\n",
    "\n",
    "if not isfile('cifar-10-python.tar.gz'):\n",
    "    with DLProgress(unit='B', unit_scale=True, miniters=1, desc='CIFAR-10 Dataset') as pbar:\n",
    "        urlretrieve(\n",
    "            'https://www.cs.toronto.edu/~kriz/cifar-10-python.tar.gz',\n",
    "            'cifar-10-python.tar.gz',\n",
    "            pbar.hook)\n",
    "\n",
    "if not isdir(cifar10_dataset_folder_path):\n",
    "    with tarfile.open('cifar-10-python.tar.gz') as tar:\n",
    "        tar.extractall()\n",
    "        tar.close()\n",
    "\n",
    "\n",
    "tests.test_folder_path(cifar10_dataset_folder_path)"
   ]
  },
  {
   "cell_type": "markdown",
   "metadata": {},
   "source": [
    "## Explore the Data\n",
    "The dataset is broken into batches to prevent your machine from running out of memory.  The CIFAR-10 dataset consists of 5 batches, named `data_batch_1`, `data_batch_2`, etc.. Each batch contains the labels and images that are one of the following:\n",
    "* airplane\n",
    "* automobile\n",
    "* bird\n",
    "* cat\n",
    "* deer\n",
    "* dog\n",
    "* frog\n",
    "* horse\n",
    "* ship\n",
    "* truck\n",
    "\n",
    "Understanding a dataset is part of making predictions on the data.  Play around with the code cell below by changing the `batch_id` and `sample_id`. The `batch_id` is the id for a batch (1-5). The `sample_id` is the id for a image and label pair in the batch.\n",
    "\n",
    "Ask yourself \"What are all possible labels?\", \"What is the range of values for the image data?\", \"Are the labels in order or random?\".  Answers to questions like these will help you preprocess the data and end up with better predictions."
   ]
  },
  {
   "cell_type": "code",
   "execution_count": 2,
   "metadata": {
    "collapsed": false
   },
   "outputs": [
    {
     "name": "stdout",
     "output_type": "stream",
     "text": [
      "\n",
      "Stats of batch 5:\n",
      "Samples: 10000\n",
      "Label Counts: {0: 1014, 1: 1014, 2: 952, 3: 1016, 4: 997, 5: 1025, 6: 980, 7: 977, 8: 1003, 9: 1022}\n",
      "First 20 Labels: [1, 8, 5, 1, 5, 7, 4, 3, 8, 2, 7, 2, 0, 1, 5, 9, 6, 2, 0, 8]\n",
      "\n",
      "Example of Image 10:\n",
      "Image - Min Value: 16 Max Value: 227\n",
      "Image - Shape: (32, 32, 3)\n",
      "Label - Label Id: 7 Name: horse\n"
     ]
    },
    {
     "data": {
      "image/png": "[encoded data removed]",
      "text/plain": [
       "<matplotlib.figure.Figure at 0x46851d0>"
      ]
     },
     "metadata": {
      "image/png": {
       "height": 250,
       "width": 253
      }
     },
     "output_type": "display_data"
    }
   ],
   "source": [
    "%matplotlib inline\n",
    "%config InlineBackend.figure_format = 'retina'\n",
    "\n",
    "import helper\n",
    "import numpy as np\n",
    "\n",
    "# Explore the dataset\n",
    "batch_id = 5\n",
    "sample_id = 10\n",
    "helper.display_stats(cifar10_dataset_folder_path, batch_id, sample_id)"
   ]
  },
  {
   "cell_type": "markdown",
   "metadata": {},
   "source": [
    "## Implement Preprocess Functions\n",
    "### Normalize\n",
    "In the cell below, implement the `normalize` function to take in image data, `x`, and return it as a normalized Numpy array. The values should be in the range of 0 to 1, inclusive.  The return object should be the same shape as `x`."
   ]
  },
  {
   "cell_type": "code",
   "execution_count": 40,
   "metadata": {
    "collapsed": false
   },
   "outputs": [
    {
     "name": "stdout",
     "output_type": "stream",
     "text": [
      "Tests Passed\n"
     ]
    }
   ],
   "source": [
    "def normalize(x):\n",
    "    \"\"\"\n",
    "    Normalize a list of sample image data in the range of 0 to 1\n",
    "    : x: List of image data.  The image shape is (32, 32, 3)\n",
    "    : return: Numpy array of normalize data\n",
    "    \"\"\"\n",
    "    # TODO: Implement Function\n",
    "    y = np.zeros_like(x,dtype=float) #Creating a temporary array to hold the values of input array\n",
    "    for i in range(0,len(x)):        #Iterating over input array and getting each image array       \n",
    "       max=float(np.amax(x[i]))      #Finding max pixel value of the image array\n",
    "       min=float(np.amin(x[i]))      #Finding min pixel value of the image array\n",
    "       for (a,b,c),value in np.ndenumerate(x[i]):        #Iterating over image array \n",
    "            y[i][a][b][c] = (x[i][a][b][c]-min)/(max-min) #Calculating normalized values for each element in image array and storing it in temporary array\n",
    "    return y\n",
    "\n",
    "\n",
    "\"\"\"\n",
    "DON'T MODIFY ANYTHING IN THIS CELL THAT IS BELOW THIS LINE\n",
    "\"\"\"\n",
    "tests.test_normalize(normalize)"
   ]
  },
  {
   "cell_type": "markdown",
   "metadata": {},
   "source": [
    "### One-hot encode\n",
    "Just like the previous code cell, you'll be implementing a function for preprocessing.  This time, you'll implement the `one_hot_encode` function. The input, `x`, are a list of labels.  Implement the function to return the list of labels as One-Hot encoded Numpy array.  The possible values for labels are 0 to 9. The one-hot encoding function should return the same encoding for each value between each call to `one_hot_encode`.  Make sure to save the map of encodings outside the function.\n",
    "\n",
    "Hint: Don't reinvent the wheel."
   ]
  },
  {
   "cell_type": "code",
   "execution_count": 77,
   "metadata": {
    "collapsed": false
   },
   "outputs": [
    {
     "name": "stdout",
     "output_type": "stream",
     "text": [
      "Tests Passed\n"
     ]
    }
   ],
   "source": [
    "def one_hot_encode(x):\n",
    "    \"\"\"\n",
    "    One hot encode a list of sample labels. Return a one-hot encoded vector for each label.\n",
    "    : x: List of sample Labels\n",
    "    : return: Numpy array of one-hot encoded labels\n",
    "    \"\"\"\n",
    "    # TODO: Implement Function\n",
    "    l = len(x)\n",
    "    a = np.zeros((l,10),dtype=int)\n",
    "    #print(a.shape)\n",
    "    for i in range(0,len(x)):\n",
    "        a[i][x[i]]=1\n",
    "    #print(a)\n",
    "    return a\n",
    "\n",
    "\n",
    "\"\"\"\n",
    "DON'T MODIFY ANYTHING IN THIS CELL THAT IS BELOW THIS LINE\n",
    "\"\"\"\n",
    "tests.test_one_hot_encode(one_hot_encode)"
   ]
  },
  {
   "cell_type": "markdown",
   "metadata": {},
   "source": [
    "### Randomize Data\n",
    "As you saw from exploring the data above, the order of the samples are randomized.  It doesn't hurt to randomize it again, but you don't need to for this dataset."
   ]
  },
  {
   "cell_type": "markdown",
   "metadata": {},
   "source": [
    "## Preprocess all the data and save it\n",
    "Running the code cell below will preprocess all the CIFAR-10 data and save it to file. The code below also uses 10% of the training data for validation."
   ]
  },
  {
   "cell_type": "code",
   "execution_count": 79,
   "metadata": {
    "collapsed": false
   },
   "outputs": [],
   "source": [
    "\"\"\"\n",
    "DON'T MODIFY ANYTHING IN THIS CELL\n",
    "\"\"\"\n",
    "# Preprocess Training, Validation, and Testing Data\n",
    "helper.preprocess_and_save_data(cifar10_dataset_folder_path, normalize, one_hot_encode)"
   ]
  },
  {
   "cell_type": "markdown",
   "metadata": {},
   "source": [
    "# Check Point\n",
    "This is your first checkpoint.  If you ever decide to come back to this notebook or have to restart the notebook, you can start from here.  The preprocessed data has been saved to disk."
   ]
  },
  {
   "cell_type": "code",
   "execution_count": 1,
   "metadata": {
    "collapsed": true
   },
   "outputs": [],
   "source": [
    "\"\"\"\n",
    "DON'T MODIFY ANYTHING IN THIS CELL\n",
    "\"\"\"\n",
    "import pickle\n",
    "import problem_unittests as tests\n",
    "import helper\n",
    "\n",
    "# Load the Preprocessed Validation data\n",
    "valid_features, valid_labels = pickle.load(open('preprocess_validation.p', mode='rb'))"
   ]
  },
  {
   "cell_type": "markdown",
   "metadata": {},
   "source": [
    "## Build the network\n",
    "For the neural network, you'll build each layer into a function.  Most of the code you've seen has been outside of functions. To test your code more thoroughly, we require that you put each layer in a function.  This allows us to give you better feedback and test for simple mistakes using our unittests before you submit your project.\n",
    "\n",
    ">**Note:** If you're finding it hard to dedicate enough time for this course each week, we've provided a small shortcut to this part of the project. In the next couple of problems, you'll have the option to use classes from the [TensorFlow Layers](https://www.tensorflow.org/api_docs/python/tf/layers) or [TensorFlow Layers (contrib)](https://www.tensorflow.org/api_guides/python/contrib.layers) packages to build each layer, except the layers you build in the \"Convolutional and Max Pooling Layer\" section.  TF Layers is similar to Keras's and TFLearn's abstraction to layers, so it's easy to pickup.\n",
    "\n",
    ">However, if you would like to get the most out of this course, try to solve all the problems _without_ using anything from the TF Layers packages. You **can** still use classes from other packages that happen to have the same name as ones you find in TF Layers! For example, instead of using the TF Layers version of the `conv2d` class, [tf.layers.conv2d](https://www.tensorflow.org/api_docs/python/tf/layers/conv2d), you would want to use the TF Neural Network version of `conv2d`, [tf.nn.conv2d](https://www.tensorflow.org/api_docs/python/tf/nn/conv2d). \n",
    "\n",
    "Let's begin!\n",
    "\n",
    "### Input\n",
    "The neural network needs to read the image data, one-hot encoded labels, and dropout keep probability. Implement the following functions\n",
    "* Implement `neural_net_image_input`\n",
    " * Return a [TF Placeholder](https://www.tensorflow.org/api_docs/python/tf/placeholder)\n",
    " * Set the shape using `image_shape` with batch size set to `None`.\n",
    " * Name the TensorFlow placeholder \"x\" using the TensorFlow `name` parameter in the [TF Placeholder](https://www.tensorflow.org/api_docs/python/tf/placeholder).\n",
    "* Implement `neural_net_label_input`\n",
    " * Return a [TF Placeholder](https://www.tensorflow.org/api_docs/python/tf/placeholder)\n",
    " * Set the shape using `n_classes` with batch size set to `None`.\n",
    " * Name the TensorFlow placeholder \"y\" using the TensorFlow `name` parameter in the [TF Placeholder](https://www.tensorflow.org/api_docs/python/tf/placeholder).\n",
    "* Implement `neural_net_keep_prob_input`\n",
    " * Return a [TF Placeholder](https://www.tensorflow.org/api_docs/python/tf/placeholder) for dropout keep probability.\n",
    " * Name the TensorFlow placeholder \"keep_prob\" using the TensorFlow `name` parameter in the [TF Placeholder](https://www.tensorflow.org/api_docs/python/tf/placeholder).\n",
    "\n",
    "These names will be used at the end of the project to load your saved model.\n",
    "\n",
    "Note: `None` for shapes in TensorFlow allow for a dynamic size."
   ]
  },
  {
   "cell_type": "code",
   "execution_count": 2,
   "metadata": {
    "collapsed": false
   },
   "outputs": [
    {
     "name": "stdout",
     "output_type": "stream",
     "text": [
      "Image Input Tests Passed.\n",
      "Label Input Tests Passed.\n",
      "Keep Prob Tests Passed.\n"
     ]
    }
   ],
   "source": [
    "import tensorflow as tf\n",
    "\n",
    "def neural_net_image_input(image_shape):\n",
    "    \"\"\"\n",
    "    Return a Tensor for a bach of image input\n",
    "    : image_shape: Shape of the images\n",
    "    : return: Tensor for image input.\n",
    "    \"\"\"\n",
    "    # TODO: Implement Function\n",
    "    a,b,c = image_shape\n",
    "    x=tf.placeholder(\"float\",[None,a,b,c],name='x')\n",
    "    return x\n",
    "\n",
    "\n",
    "def neural_net_label_input(n_classes):\n",
    "    \"\"\"\n",
    "    Return a Tensor for a batch of label input\n",
    "    : n_classes: Number of classes\n",
    "    : return: Tensor for label input.\n",
    "    \"\"\"\n",
    "    # TODO: Implement Function\n",
    "    a=int(n_classes)\n",
    "    y=tf.placeholder(\"float\",[None,a],name='y')\n",
    "    return y\n",
    "\n",
    "\n",
    "def neural_net_keep_prob_input():\n",
    "    \"\"\"\n",
    "    Return a Tensor for keep probability\n",
    "    : return: Tensor for keep probability.\n",
    "    \"\"\"\n",
    "    # TODO: Implement Function\n",
    "    keep_prob=tf.placeholder(\"float\",name='keep_prob')\n",
    "    return keep_prob \n",
    "\n",
    "\n",
    "\"\"\"\n",
    "DON'T MODIFY ANYTHING IN THIS CELL THAT IS BELOW THIS LINE\n",
    "\"\"\"\n",
    "tf.reset_default_graph()\n",
    "tests.test_nn_image_inputs(neural_net_image_input)\n",
    "tests.test_nn_label_inputs(neural_net_label_input)\n",
    "tests.test_nn_keep_prob_inputs(neural_net_keep_prob_input)"
   ]
  },
  {
   "cell_type": "markdown",
   "metadata": {},
   "source": [
    "### Convolution and Max Pooling Layer\n",
    "Convolution layers have a lot of success with images. For this code cell, you should implement the function `conv2d_maxpool` to apply convolution then max pooling:\n",
    "* Create the weight and bias using `conv_ksize`, `conv_num_outputs` and the shape of `x_tensor`.\n",
    "* Apply a convolution to `x_tensor` using weight and `conv_strides`.\n",
    " * We recommend you use same padding, but you're welcome to use any padding.\n",
    "* Add bias\n",
    "* Add a nonlinear activation to the convolution.\n",
    "* Apply Max Pooling using `pool_ksize` and `pool_strides`.\n",
    " * We recommend you use same padding, but you're welcome to use any padding.\n",
    "\n",
    "**Note:** You **can't** use [TensorFlow Layers](https://www.tensorflow.org/api_docs/python/tf/layers) or [TensorFlow Layers (contrib)](https://www.tensorflow.org/api_guides/python/contrib.layers) for **this** layer, but you can still use TensorFlow's [Neural Network](https://www.tensorflow.org/api_docs/python/tf/nn) package. You may still use the shortcut option for all the **other** layers."
   ]
  },
  {
   "cell_type": "code",
   "execution_count": 3,
   "metadata": {
    "collapsed": false
   },
   "outputs": [
    {
     "name": "stdout",
     "output_type": "stream",
     "text": [
      "Tests Passed\n"
     ]
    }
   ],
   "source": [
    "def conv2d_maxpool(x_tensor, conv_num_outputs, conv_ksize, conv_strides, pool_ksize, pool_strides):\n",
    "    \"\"\"\n",
    "    Apply convolution then max pooling to x_tensor\n",
    "    :param x_tensor: TensorFlow Tensor\n",
    "    :param conv_num_outputs: Number of outputs for the convolutional layer\n",
    "    :param conv_ksize: kernal size 2-D Tuple for the convolutional layer\n",
    "    :param conv_strides: Stride 2-D Tuple for convolution\n",
    "    :param pool_ksize: kernal size 2-D Tuple for pool\n",
    "    :param pool_strides: Stride 2-D Tuple for pool\n",
    "    : return: A tensor that represents convolution and max pooling of x_tensor\n",
    "    \"\"\"\n",
    "    # TODO: Implement Function\n",
    "    #print(conv_strides)\n",
    "    #weights = tf.Variable(tf.random_normal([conv_ksize[0],conv_ksize[1],x_tensor.get_shape().as_list()[3],conv_num_outputs]))\n",
    "    weights = tf.Variable(tf.truncated_normal([conv_ksize[0],conv_ksize[1],x_tensor.get_shape().as_list()[3],conv_num_outputs], mean=0.0, stddev=0.1))\n",
    "    bias = tf.Variable(tf.zeros(conv_num_outputs))\n",
    "    conv_layer=tf.nn.conv2d(x_tensor,weights,strides=[1,conv_strides[0],conv_strides[1],1],padding='SAME')\n",
    "    conv_layer=tf.nn.bias_add(conv_layer,bias)\n",
    "    conv_layer = tf.nn.relu(conv_layer)\n",
    "    conv_layer = tf.nn.max_pool(conv_layer,ksize=[1,pool_ksize[0],pool_ksize[1],1],strides=[1,pool_strides[0],pool_strides[1],1],padding='SAME')\n",
    "    return conv_layer \n",
    "\n",
    "\n",
    "\"\"\"\n",
    "DON'T MODIFY ANYTHING IN THIS CELL THAT IS BELOW THIS LINE\n",
    "\"\"\"\n",
    "tests.test_con_pool(conv2d_maxpool)"
   ]
  },
  {
   "cell_type": "markdown",
   "metadata": {},
   "source": [
    "### Flatten Layer\n",
    "Implement the `flatten` function to change the dimension of `x_tensor` from a 4-D tensor to a 2-D tensor.  The output should be the shape (*Batch Size*, *Flattened Image Size*). Shortcut option: you can use classes from the [TensorFlow Layers](https://www.tensorflow.org/api_docs/python/tf/layers) or [TensorFlow Layers (contrib)](https://www.tensorflow.org/api_guides/python/contrib.layers) packages for this layer. For more of a challenge, only use other TensorFlow packages."
   ]
  },
  {
   "cell_type": "code",
   "execution_count": 4,
   "metadata": {
    "collapsed": false
   },
   "outputs": [
    {
     "name": "stdout",
     "output_type": "stream",
     "text": [
      "Tests Passed\n"
     ]
    }
   ],
   "source": [
    "def flatten(x_tensor):\n",
    "    \"\"\"\n",
    "    Flatten x_tensor to (Batch Size, Flattened Image Size)\n",
    "    : x_tensor: A tensor of size (Batch Size, ...), where ... are the image dimensions.\n",
    "    : return: A tensor of size (Batch Size, Flattened Image Size).\n",
    "    \"\"\"\n",
    "    # TODO: Implement Function\n",
    "    x_tensor_flat = tf.reshape(x_tensor,[-1,x_tensor.get_shape().as_list()[1]*x_tensor.get_shape().as_list()[2]*x_tensor.get_shape().as_list()[3]])\n",
    "    return x_tensor_flat\n",
    "\n",
    "\n",
    "\"\"\"\n",
    "DON'T MODIFY ANYTHING IN THIS CELL THAT IS BELOW THIS LINE\n",
    "\"\"\"\n",
    "tests.test_flatten(flatten)"
   ]
  },
  {
   "cell_type": "markdown",
   "metadata": {},
   "source": [
    "### Fully-Connected Layer\n",
    "Implement the `fully_conn` function to apply a fully connected layer to `x_tensor` with the shape (*Batch Size*, *num_outputs*). Shortcut option: you can use classes from the [TensorFlow Layers](https://www.tensorflow.org/api_docs/python/tf/layers) or [TensorFlow Layers (contrib)](https://www.tensorflow.org/api_guides/python/contrib.layers) packages for this layer. For more of a challenge, only use other TensorFlow packages."
   ]
  },
  {
   "cell_type": "code",
   "execution_count": 5,
   "metadata": {
    "collapsed": false
   },
   "outputs": [
    {
     "name": "stdout",
     "output_type": "stream",
     "text": [
      "Tests Passed\n"
     ]
    }
   ],
   "source": [
    "def fully_conn(x_tensor, num_outputs):\n",
    "    \"\"\"\n",
    "    Apply a fully connected layer to x_tensor using weight and bias\n",
    "    : x_tensor: A 2-D tensor where the first dimension is batch size.\n",
    "    : num_outputs: The number of output that the new tensor should be.\n",
    "    : return: A 2-D tensor where the second dimension is num_outputs.\n",
    "    \"\"\"\n",
    "    # TODO: Implement Function\n",
    "    weights=tf.Variable(tf.truncated_normal([x_tensor.get_shape().as_list()[1],num_outputs], mean=0.0, stddev=0.1))\n",
    "    bias=tf.Variable(tf.zeros(num_outputs))\n",
    "    fc_tensor = tf.add(tf.matmul(x_tensor,weights),bias)\n",
    "    fc_tensor = tf.nn.relu(fc_tensor)\n",
    "    return fc_tensor\n",
    "\n",
    "\n",
    "\"\"\"\n",
    "DON'T MODIFY ANYTHING IN THIS CELL THAT IS BELOW THIS LINE\n",
    "\"\"\"\n",
    "tests.test_fully_conn(fully_conn)"
   ]
  },
  {
   "cell_type": "markdown",
   "metadata": {},
   "source": [
    "### Output Layer\n",
    "Implement the `output` function to apply a fully connected layer to `x_tensor` with the shape (*Batch Size*, *num_outputs*). Shortcut option: you can use classes from the [TensorFlow Layers](https://www.tensorflow.org/api_docs/python/tf/layers) or [TensorFlow Layers (contrib)](https://www.tensorflow.org/api_guides/python/contrib.layers) packages for this layer. For more of a challenge, only use other TensorFlow packages.\n",
    "\n",
    "**Note:** Activation, softmax, or cross entropy should **not** be applied to this."
   ]
  },
  {
   "cell_type": "code",
   "execution_count": 6,
   "metadata": {
    "collapsed": false
   },
   "outputs": [
    {
     "name": "stdout",
     "output_type": "stream",
     "text": [
      "Tests Passed\n"
     ]
    }
   ],
   "source": [
    "def output(x_tensor, num_outputs):\n",
    "    \"\"\"\n",
    "    Apply a output layer to x_tensor using weight and bias\n",
    "    : x_tensor: A 2-D tensor where the first dimension is batch size.\n",
    "    : num_outputs: The number of output that the new tensor should be.\n",
    "    : return: A 2-D tensor where the second dimension is num_outputs.\n",
    "    \"\"\"\n",
    "    # TODO: Implement Function\n",
    "    weights=tf.Variable(tf.truncated_normal([x_tensor.get_shape().as_list()[1],num_outputs], mean=0.0, stddev=0.1))\n",
    "    bias=tf.Variable(tf.zeros(num_outputs))\n",
    "    op_tensor = tf.add(tf.matmul(x_tensor,weights),bias)\n",
    "    return op_tensor\n",
    "\n",
    "\n",
    "\"\"\"\n",
    "DON'T MODIFY ANYTHING IN THIS CELL THAT IS BELOW THIS LINE\n",
    "\"\"\"\n",
    "tests.test_output(output)"
   ]
  },
  {
   "cell_type": "markdown",
   "metadata": {},
   "source": [
    "### Create Convolutional Model\n",
    "Implement the function `conv_net` to create a convolutional neural network model. The function takes in a batch of images, `x`, and outputs logits.  Use the layers you created above to create this model:\n",
    "\n",
    "* Apply 1, 2, or 3 Convolution and Max Pool layers\n",
    "* Apply a Flatten Layer\n",
    "* Apply 1, 2, or 3 Fully Connected Layers\n",
    "* Apply an Output Layer\n",
    "* Return the output\n",
    "* Apply [TensorFlow's Dropout](https://www.tensorflow.org/api_docs/python/tf/nn/dropout) to one or more layers in the model using `keep_prob`. "
   ]
  },
  {
   "cell_type": "code",
   "execution_count": 7,
   "metadata": {
    "collapsed": false
   },
   "outputs": [
    {
     "name": "stdout",
     "output_type": "stream",
     "text": [
      "Neural Network Built!\n"
     ]
    }
   ],
   "source": [
    "def conv_net(x, keep_prob):\n",
    "    \"\"\"\n",
    "    Create a convolutional neural network model\n",
    "    : x: Placeholder tensor that holds image data.\n",
    "    : keep_prob: Placeholder tensor that hold dropout keep probability.\n",
    "    : return: Tensor that represents logits\n",
    "    \"\"\"\n",
    "    # TODO: Apply 1, 2, or 3 Convolution and Max Pool layers\n",
    "    #    Play around with different number of outputs, kernel size and stride\n",
    "    # Function Definition from Above:\n",
    "    #    conv2d_maxpool(x_tensor, conv_num_outputs, conv_ksize, conv_strides, pool_ksize, pool_strides)\n",
    "    #conv_num_outputs=30\n",
    "    conv_ksize=[3,3]\n",
    "    conv_strides=[1,1]\n",
    "    pool_ksize=[2,2]\n",
    "    pool_strides=[2,2]\n",
    "    conv1 = conv2d_maxpool(x, 32, conv_ksize, conv_strides, pool_ksize, pool_strides)\n",
    "    conv1=tf.nn.dropout(conv1,keep_prob)\n",
    "    conv2 = conv2d_maxpool(conv1,64, conv_ksize, conv_strides, pool_ksize, pool_strides)\n",
    "    conv2=tf.nn.dropout(conv2,keep_prob)\n",
    "    conv3 = conv2d_maxpool(conv2,128, conv_ksize, conv_strides, pool_ksize, pool_strides)\n",
    "    \n",
    "\n",
    "    # TODO: Apply a Flatten Layer\n",
    "    # Function Definition from Above:\n",
    "    #   flatten(x_tensor)\n",
    "    conv3_flat=flatten(conv3)\n",
    "    \n",
    "\n",
    "    # TODO: Apply 1, 2, or 3 Fully Connected Layers\n",
    "    #    Play around with different number of outputs\n",
    "    # Function Definition from Above:\n",
    "    #   fully_conn(x_tensor, num_outputs)\n",
    "    fc1=fully_conn(conv3_flat,60)\n",
    "    fc1=tf.nn.dropout(fc1,keep_prob)\n",
    "    fc2=fully_conn(fc1,40)\n",
    "    fc2=tf.nn.dropout(fc2,keep_prob)\n",
    "    fc3=fully_conn(fc2,20)\n",
    "    fc3=tf.nn.dropout(fc3,keep_prob)\n",
    "    \n",
    "    # TODO: Apply an Output Layer\n",
    "    #    Set this to the number of classes\n",
    "    # Function Definition from Above:\n",
    "    #   output(x_tensor, num_outputs)\n",
    "    \n",
    "    op=output(fc3,10)\n",
    "    \n",
    "    \n",
    "    # TODO: return output\n",
    "    return op\n",
    "\n",
    "\n",
    "\"\"\"\n",
    "DON'T MODIFY ANYTHING IN THIS CELL THAT IS BELOW THIS LINE\n",
    "\"\"\"\n",
    "\n",
    "##############################\n",
    "## Build the Neural Network ##\n",
    "##############################\n",
    "\n",
    "# Remove previous weights, bias, inputs, etc..\n",
    "tf.reset_default_graph()\n",
    "\n",
    "# Inputs\n",
    "x = neural_net_image_input((32, 32, 3))\n",
    "y = neural_net_label_input(10)\n",
    "keep_prob = neural_net_keep_prob_input()\n",
    "\n",
    "# Model\n",
    "logits = conv_net(x, keep_prob)\n",
    "\n",
    "# Name logits Tensor, so that is can be loaded from disk after training\n",
    "logits = tf.identity(logits, name='logits')\n",
    "\n",
    "# Loss and Optimizer\n",
    "cost = tf.reduce_mean(tf.nn.softmax_cross_entropy_with_logits(logits=logits, labels=y))\n",
    "optimizer = tf.train.AdamOptimizer().minimize(cost)\n",
    "\n",
    "# Accuracy\n",
    "correct_pred = tf.equal(tf.argmax(logits, 1), tf.argmax(y, 1))\n",
    "accuracy = tf.reduce_mean(tf.cast(correct_pred, tf.float32), name='accuracy')\n",
    "\n",
    "tests.test_conv_net(conv_net)"
   ]
  },
  {
   "cell_type": "markdown",
   "metadata": {},
   "source": [
    "## Train the Neural Network\n",
    "### Single Optimization\n",
    "Implement the function `train_neural_network` to do a single optimization.  The optimization should use `optimizer` to optimize in `session` with a `feed_dict` of the following:\n",
    "* `x` for image input\n",
    "* `y` for labels\n",
    "* `keep_prob` for keep probability for dropout\n",
    "\n",
    "This function will be called for each batch, so `tf.global_variables_initializer()` has already been called.\n",
    "\n",
    "Note: Nothing needs to be returned. This function is only optimizing the neural network."
   ]
  },
  {
   "cell_type": "code",
   "execution_count": 8,
   "metadata": {
    "collapsed": false
   },
   "outputs": [
    {
     "name": "stdout",
     "output_type": "stream",
     "text": [
      "Tests Passed\n"
     ]
    }
   ],
   "source": [
    "def train_neural_network(session, optimizer, keep_probability, feature_batch, label_batch):\n",
    "    \"\"\"\n",
    "    Optimize the session on a batch of images and labels\n",
    "    : session: Current TensorFlow session\n",
    "    : optimizer: TensorFlow optimizer function\n",
    "    : keep_probability: keep probability\n",
    "    : feature_batch: Batch of Numpy image data\n",
    "    : label_batch: Batch of Numpy label data\n",
    "    \"\"\"\n",
    "    # TODO: Implement Function\n",
    "    session.run(optimizer,feed_dict={x:feature_batch,y:label_batch,keep_prob:keep_probability})\n",
    "\n",
    "\n",
    "\"\"\"\n",
    "DON'T MODIFY ANYTHING IN THIS CELL THAT IS BELOW THIS LINE\n",
    "\"\"\"\n",
    "tests.test_train_nn(train_neural_network)"
   ]
  },
  {
   "cell_type": "markdown",
   "metadata": {},
   "source": [
    "### Show Stats\n",
    "Implement the function `print_stats` to print loss and validation accuracy.  Use the global variables `valid_features` and `valid_labels` to calculate validation accuracy.  Use a keep probability of `1.0` to calculate the loss and validation accuracy."
   ]
  },
  {
   "cell_type": "code",
   "execution_count": 9,
   "metadata": {
    "collapsed": false
   },
   "outputs": [],
   "source": [
    "def print_stats(session, feature_batch, label_batch, cost, accuracy):\n",
    "    \"\"\"\n",
    "    Print information about loss and validation accuracy\n",
    "    : session: Current TensorFlow session\n",
    "    : feature_batch: Batch of Numpy image data\n",
    "    : label_batch: Batch of Numpy label data\n",
    "    : cost: TensorFlow cost function\n",
    "    : accuracy: TensorFlow accuracy function\n",
    "    \"\"\"\n",
    "    # TODO: Implement Function\n",
    "    loss = sess.run(cost,feed_dict={x:feature_batch,y:label_batch,keep_prob: 1.0})\n",
    "    valid_acc = sess.run(accuracy,feed_dict={x:valid_features,y:valid_labels,keep_prob:1.0})\n",
    "    print('Loss: {:>10.4f} Validation Accuracy: {:.6f}'.format(loss,valid_acc))"
   ]
  },
  {
   "cell_type": "markdown",
   "metadata": {},
   "source": [
    "### Hyperparameters\n",
    "Tune the following parameters:\n",
    "* Set `epochs` to the number of iterations until the network stops learning or start overfitting\n",
    "* Set `batch_size` to the highest number that your machine has memory for.  Most people set them to common sizes of memory:\n",
    " * 64\n",
    " * 128\n",
    " * 256\n",
    " * ...\n",
    "* Set `keep_probability` to the probability of keeping a node using dropout"
   ]
  },
  {
   "cell_type": "code",
   "execution_count": 10,
   "metadata": {
    "collapsed": true
   },
   "outputs": [],
   "source": [
    "# TODO: Tune Parameters\n",
    "epochs = 60\n",
    "batch_size = 64\n",
    "keep_probability = 0.8"
   ]
  },
  {
   "cell_type": "markdown",
   "metadata": {},
   "source": [
    "### Train on a Single CIFAR-10 Batch\n",
    "Instead of training the neural network on all the CIFAR-10 batches of data, let's use a single batch. This should save time while you iterate on the model to get a better accuracy.  Once the final validation accuracy is 50% or greater, run the model on all the data in the next section."
   ]
  },
  {
   "cell_type": "code",
   "execution_count": 11,
   "metadata": {
    "collapsed": false
   },
   "outputs": [
    {
     "name": "stdout",
     "output_type": "stream",
     "text": [
      "Checking the Training on a Single Batch...\n",
      "Epoch  1, CIFAR-10 Batch 1:  Loss:     2.2041 Validation Accuracy: 0.203200\n",
      "Epoch  2, CIFAR-10 Batch 1:  Loss:     2.0511 Validation Accuracy: 0.296400\n",
      "Epoch  3, CIFAR-10 Batch 1:  Loss:     1.9789 Validation Accuracy: 0.348000\n",
      "Epoch  4, CIFAR-10 Batch 1:  Loss:     1.9164 Validation Accuracy: 0.416000\n",
      "Epoch  5, CIFAR-10 Batch 1:  Loss:     1.8034 Validation Accuracy: 0.452200\n",
      "Epoch  6, CIFAR-10 Batch 1:  Loss:     1.6987 Validation Accuracy: 0.451400\n",
      "Epoch  7, CIFAR-10 Batch 1:  Loss:     1.5445 Validation Accuracy: 0.502800\n",
      "Epoch  8, CIFAR-10 Batch 1:  Loss:     1.4324 Validation Accuracy: 0.496000\n",
      "Epoch  9, CIFAR-10 Batch 1:  Loss:     1.3445 Validation Accuracy: 0.507000\n",
      "Epoch 10, CIFAR-10 Batch 1:  Loss:     1.2039 Validation Accuracy: 0.524800\n",
      "Epoch 11, CIFAR-10 Batch 1:  Loss:     1.1705 Validation Accuracy: 0.540000\n",
      "Epoch 12, CIFAR-10 Batch 1:  Loss:     1.1492 Validation Accuracy: 0.548800\n",
      "Epoch 13, CIFAR-10 Batch 1:  Loss:     1.0654 Validation Accuracy: 0.558400\n",
      "Epoch 14, CIFAR-10 Batch 1:  Loss:     1.0207 Validation Accuracy: 0.556000\n",
      "Epoch 15, CIFAR-10 Batch 1:  Loss:     0.9923 Validation Accuracy: 0.568600\n",
      "Epoch 16, CIFAR-10 Batch 1:  Loss:     0.9975 Validation Accuracy: 0.563800\n",
      "Epoch 17, CIFAR-10 Batch 1:  Loss:     0.8362 Validation Accuracy: 0.587400\n",
      "Epoch 18, CIFAR-10 Batch 1:  Loss:     0.8014 Validation Accuracy: 0.599400\n",
      "Epoch 19, CIFAR-10 Batch 1:  Loss:     0.7715 Validation Accuracy: 0.601600\n",
      "Epoch 20, CIFAR-10 Batch 1:  Loss:     0.7440 Validation Accuracy: 0.598200\n",
      "Epoch 21, CIFAR-10 Batch 1:  Loss:     0.6473 Validation Accuracy: 0.585200\n",
      "Epoch 22, CIFAR-10 Batch 1:  Loss:     0.6117 Validation Accuracy: 0.601000\n",
      "Epoch 23, CIFAR-10 Batch 1:  Loss:     0.6119 Validation Accuracy: 0.600800\n",
      "Epoch 24, CIFAR-10 Batch 1:  Loss:     0.6249 Validation Accuracy: 0.605200\n",
      "Epoch 25, CIFAR-10 Batch 1:  Loss:     0.5937 Validation Accuracy: 0.613000\n",
      "Epoch 26, CIFAR-10 Batch 1:  Loss:     0.5715 Validation Accuracy: 0.613200\n",
      "Epoch 27, CIFAR-10 Batch 1:  Loss:     0.5506 Validation Accuracy: 0.598600\n",
      "Epoch 28, CIFAR-10 Batch 1:  Loss:     0.5131 Validation Accuracy: 0.610600\n",
      "Epoch 29, CIFAR-10 Batch 1:  Loss:     0.4377 Validation Accuracy: 0.614000\n",
      "Epoch 30, CIFAR-10 Batch 1:  Loss:     0.4727 Validation Accuracy: 0.619600\n",
      "Epoch 31, CIFAR-10 Batch 1:  Loss:     0.4248 Validation Accuracy: 0.602600\n",
      "Epoch 32, CIFAR-10 Batch 1:  Loss:     0.3807 Validation Accuracy: 0.626200\n",
      "Epoch 33, CIFAR-10 Batch 1:  Loss:     0.3483 Validation Accuracy: 0.621000\n",
      "Epoch 34, CIFAR-10 Batch 1:  Loss:     0.3704 Validation Accuracy: 0.605600\n",
      "Epoch 35, CIFAR-10 Batch 1:  Loss:     0.3179 Validation Accuracy: 0.625200\n",
      "Epoch 36, CIFAR-10 Batch 1:  Loss:     0.3237 Validation Accuracy: 0.625200\n",
      "Epoch 37, CIFAR-10 Batch 1:  Loss:     0.2737 Validation Accuracy: 0.624800\n",
      "Epoch 38, CIFAR-10 Batch 1:  Loss:     0.2465 Validation Accuracy: 0.619200\n",
      "Epoch 39, CIFAR-10 Batch 1:  Loss:     0.2345 Validation Accuracy: 0.635400\n",
      "Epoch 40, CIFAR-10 Batch 1:  Loss:     0.2506 Validation Accuracy: 0.631000\n",
      "Epoch 41, CIFAR-10 Batch 1:  Loss:     0.2103 Validation Accuracy: 0.629800\n",
      "Epoch 42, CIFAR-10 Batch 1:  Loss:     0.2107 Validation Accuracy: 0.632800\n",
      "Epoch 43, CIFAR-10 Batch 1:  Loss:     0.1821 Validation Accuracy: 0.641600\n",
      "Epoch 44, CIFAR-10 Batch 1:  Loss:     0.1905 Validation Accuracy: 0.644800\n",
      "Epoch 45, CIFAR-10 Batch 1:  Loss:     0.2037 Validation Accuracy: 0.617600\n",
      "Epoch 46, CIFAR-10 Batch 1:  Loss:     0.1642 Validation Accuracy: 0.635600\n",
      "Epoch 47, CIFAR-10 Batch 1:  Loss:     0.1691 Validation Accuracy: 0.630800\n",
      "Epoch 48, CIFAR-10 Batch 1:  Loss:     0.1448 Validation Accuracy: 0.637800\n",
      "Epoch 49, CIFAR-10 Batch 1:  Loss:     0.1645 Validation Accuracy: 0.640200\n",
      "Epoch 50, CIFAR-10 Batch 1:  Loss:     0.1239 Validation Accuracy: 0.643800\n",
      "Epoch 51, CIFAR-10 Batch 1:  Loss:     0.1307 Validation Accuracy: 0.638400\n",
      "Epoch 52, CIFAR-10 Batch 1:  Loss:     0.1693 Validation Accuracy: 0.642800\n",
      "Epoch 53, CIFAR-10 Batch 1:  Loss:     0.1250 Validation Accuracy: 0.648000\n",
      "Epoch 54, CIFAR-10 Batch 1:  Loss:     0.1426 Validation Accuracy: 0.650000\n",
      "Epoch 55, CIFAR-10 Batch 1:  Loss:     0.1329 Validation Accuracy: 0.648000\n",
      "Epoch 56, CIFAR-10 Batch 1:  Loss:     0.1106 Validation Accuracy: 0.646800\n",
      "Epoch 57, CIFAR-10 Batch 1:  Loss:     0.0951 Validation Accuracy: 0.651200\n",
      "Epoch 58, CIFAR-10 Batch 1:  Loss:     0.1206 Validation Accuracy: 0.648400\n",
      "Epoch 59, CIFAR-10 Batch 1:  Loss:     0.0953 Validation Accuracy: 0.642200\n",
      "Epoch 60, CIFAR-10 Batch 1:  Loss:     0.0936 Validation Accuracy: 0.644200\n"
     ]
    }
   ],
   "source": [
    "\"\"\"\n",
    "DON'T MODIFY ANYTHING IN THIS CELL\n",
    "\"\"\"\n",
    "print('Checking the Training on a Single Batch...')\n",
    "with tf.Session() as sess:\n",
    "    # Initializing the variables\n",
    "    sess.run(tf.global_variables_initializer())\n",
    "    \n",
    "    # Training cycle\n",
    "    for epoch in range(epochs):\n",
    "        batch_i = 1\n",
    "        for batch_features, batch_labels in helper.load_preprocess_training_batch(batch_i, batch_size):\n",
    "            train_neural_network(sess, optimizer, keep_probability, batch_features, batch_labels)\n",
    "        print('Epoch {:>2}, CIFAR-10 Batch {}:  '.format(epoch + 1, batch_i), end='')\n",
    "        print_stats(sess, batch_features, batch_labels, cost, accuracy)"
   ]
  },
  {
   "cell_type": "markdown",
   "metadata": {},
   "source": [
    "### Fully Train the Model\n",
    "Now that you got a good accuracy with a single CIFAR-10 batch, try it with all five batches."
   ]
  },
  {
   "cell_type": "code",
   "execution_count": 12,
   "metadata": {
    "collapsed": false
   },
   "outputs": [
    {
     "name": "stdout",
     "output_type": "stream",
     "text": [
      "Training...\n",
      "Epoch  1, CIFAR-10 Batch 1:  Loss:     2.2066 Validation Accuracy: 0.167800\n",
      "Epoch  1, CIFAR-10 Batch 2:  Loss:     1.9360 Validation Accuracy: 0.307800\n",
      "Epoch  1, CIFAR-10 Batch 3:  Loss:     1.6569 Validation Accuracy: 0.345400\n",
      "Epoch  1, CIFAR-10 Batch 4:  Loss:     1.7081 Validation Accuracy: 0.387200\n",
      "Epoch  1, CIFAR-10 Batch 5:  Loss:     1.6502 Validation Accuracy: 0.414600\n",
      "Epoch  2, CIFAR-10 Batch 1:  Loss:     1.7931 Validation Accuracy: 0.442400\n",
      "Epoch  2, CIFAR-10 Batch 2:  Loss:     1.5133 Validation Accuracy: 0.451400\n",
      "Epoch  2, CIFAR-10 Batch 3:  Loss:     1.2918 Validation Accuracy: 0.473800\n",
      "Epoch  2, CIFAR-10 Batch 4:  Loss:     1.4583 Validation Accuracy: 0.488200\n",
      "Epoch  2, CIFAR-10 Batch 5:  Loss:     1.4286 Validation Accuracy: 0.498000\n",
      "Epoch  3, CIFAR-10 Batch 1:  Loss:     1.4906 Validation Accuracy: 0.530800\n",
      "Epoch  3, CIFAR-10 Batch 2:  Loss:     1.3890 Validation Accuracy: 0.534400\n",
      "Epoch  3, CIFAR-10 Batch 3:  Loss:     1.1226 Validation Accuracy: 0.533400\n",
      "Epoch  3, CIFAR-10 Batch 4:  Loss:     1.3518 Validation Accuracy: 0.563200\n",
      "Epoch  3, CIFAR-10 Batch 5:  Loss:     1.1249 Validation Accuracy: 0.567200\n",
      "Epoch  4, CIFAR-10 Batch 1:  Loss:     1.2877 Validation Accuracy: 0.573400\n",
      "Epoch  4, CIFAR-10 Batch 2:  Loss:     1.1464 Validation Accuracy: 0.595600\n",
      "Epoch  4, CIFAR-10 Batch 3:  Loss:     1.0998 Validation Accuracy: 0.565600\n",
      "Epoch  4, CIFAR-10 Batch 4:  Loss:     1.2837 Validation Accuracy: 0.593800\n",
      "Epoch  4, CIFAR-10 Batch 5:  Loss:     1.0937 Validation Accuracy: 0.606600\n",
      "Epoch  5, CIFAR-10 Batch 1:  Loss:     1.1572 Validation Accuracy: 0.601400\n",
      "Epoch  5, CIFAR-10 Batch 2:  Loss:     1.0051 Validation Accuracy: 0.609400\n",
      "Epoch  5, CIFAR-10 Batch 3:  Loss:     0.8831 Validation Accuracy: 0.616600\n",
      "Epoch  5, CIFAR-10 Batch 4:  Loss:     1.0933 Validation Accuracy: 0.632000\n",
      "Epoch  5, CIFAR-10 Batch 5:  Loss:     0.9342 Validation Accuracy: 0.638400\n",
      "Epoch  6, CIFAR-10 Batch 1:  Loss:     1.0344 Validation Accuracy: 0.619400\n",
      "Epoch  6, CIFAR-10 Batch 2:  Loss:     0.9230 Validation Accuracy: 0.637000\n",
      "Epoch  6, CIFAR-10 Batch 3:  Loss:     0.8351 Validation Accuracy: 0.650000\n",
      "Epoch  6, CIFAR-10 Batch 4:  Loss:     1.0156 Validation Accuracy: 0.648000\n",
      "Epoch  6, CIFAR-10 Batch 5:  Loss:     0.8726 Validation Accuracy: 0.647800\n",
      "Epoch  7, CIFAR-10 Batch 1:  Loss:     0.9577 Validation Accuracy: 0.659400\n",
      "Epoch  7, CIFAR-10 Batch 2:  Loss:     0.8653 Validation Accuracy: 0.676000\n",
      "Epoch  7, CIFAR-10 Batch 3:  Loss:     0.7825 Validation Accuracy: 0.645800\n",
      "Epoch  7, CIFAR-10 Batch 4:  Loss:     0.9519 Validation Accuracy: 0.660200\n",
      "Epoch  7, CIFAR-10 Batch 5:  Loss:     0.8276 Validation Accuracy: 0.671000\n",
      "Epoch  8, CIFAR-10 Batch 1:  Loss:     0.8693 Validation Accuracy: 0.659200\n",
      "Epoch  8, CIFAR-10 Batch 2:  Loss:     0.7588 Validation Accuracy: 0.688800\n",
      "Epoch  8, CIFAR-10 Batch 3:  Loss:     0.7059 Validation Accuracy: 0.657600\n",
      "Epoch  8, CIFAR-10 Batch 4:  Loss:     0.8834 Validation Accuracy: 0.676800\n",
      "Epoch  8, CIFAR-10 Batch 5:  Loss:     0.7540 Validation Accuracy: 0.686200\n",
      "Epoch  9, CIFAR-10 Batch 1:  Loss:     0.8322 Validation Accuracy: 0.692200\n",
      "Epoch  9, CIFAR-10 Batch 2:  Loss:     0.7780 Validation Accuracy: 0.688600\n",
      "Epoch  9, CIFAR-10 Batch 3:  Loss:     0.6042 Validation Accuracy: 0.683000\n",
      "Epoch  9, CIFAR-10 Batch 4:  Loss:     0.8477 Validation Accuracy: 0.684600\n",
      "Epoch  9, CIFAR-10 Batch 5:  Loss:     0.7417 Validation Accuracy: 0.696800\n",
      "Epoch 10, CIFAR-10 Batch 1:  Loss:     0.7875 Validation Accuracy: 0.682000\n",
      "Epoch 10, CIFAR-10 Batch 2:  Loss:     0.6552 Validation Accuracy: 0.689600\n",
      "Epoch 10, CIFAR-10 Batch 3:  Loss:     0.6139 Validation Accuracy: 0.684800\n",
      "Epoch 10, CIFAR-10 Batch 4:  Loss:     0.7993 Validation Accuracy: 0.687800\n",
      "Epoch 10, CIFAR-10 Batch 5:  Loss:     0.5930 Validation Accuracy: 0.703800\n",
      "Epoch 11, CIFAR-10 Batch 1:  Loss:     0.7371 Validation Accuracy: 0.698600\n",
      "Epoch 11, CIFAR-10 Batch 2:  Loss:     0.6560 Validation Accuracy: 0.699200\n",
      "Epoch 11, CIFAR-10 Batch 3:  Loss:     0.5350 Validation Accuracy: 0.705000\n",
      "Epoch 11, CIFAR-10 Batch 4:  Loss:     0.7356 Validation Accuracy: 0.703400\n",
      "Epoch 11, CIFAR-10 Batch 5:  Loss:     0.6069 Validation Accuracy: 0.708600\n",
      "Epoch 12, CIFAR-10 Batch 1:  Loss:     0.6886 Validation Accuracy: 0.706400\n",
      "Epoch 12, CIFAR-10 Batch 2:  Loss:     0.5523 Validation Accuracy: 0.705600\n",
      "Epoch 12, CIFAR-10 Batch 3:  Loss:     0.5312 Validation Accuracy: 0.692600\n",
      "Epoch 12, CIFAR-10 Batch 4:  Loss:     0.6896 Validation Accuracy: 0.712800\n",
      "Epoch 12, CIFAR-10 Batch 5:  Loss:     0.5322 Validation Accuracy: 0.716000\n",
      "Epoch 13, CIFAR-10 Batch 1:  Loss:     0.6476 Validation Accuracy: 0.707000\n",
      "Epoch 13, CIFAR-10 Batch 2:  Loss:     0.5420 Validation Accuracy: 0.712000\n",
      "Epoch 13, CIFAR-10 Batch 3:  Loss:     0.4801 Validation Accuracy: 0.711600\n",
      "Epoch 13, CIFAR-10 Batch 4:  Loss:     0.5829 Validation Accuracy: 0.714200\n",
      "Epoch 13, CIFAR-10 Batch 5:  Loss:     0.6033 Validation Accuracy: 0.715000\n",
      "Epoch 14, CIFAR-10 Batch 1:  Loss:     0.5248 Validation Accuracy: 0.716600\n",
      "Epoch 14, CIFAR-10 Batch 2:  Loss:     0.5625 Validation Accuracy: 0.717400\n",
      "Epoch 14, CIFAR-10 Batch 3:  Loss:     0.4702 Validation Accuracy: 0.724200\n",
      "Epoch 14, CIFAR-10 Batch 4:  Loss:     0.5275 Validation Accuracy: 0.735800\n",
      "Epoch 14, CIFAR-10 Batch 5:  Loss:     0.5053 Validation Accuracy: 0.729200\n",
      "Epoch 15, CIFAR-10 Batch 1:  Loss:     0.5413 Validation Accuracy: 0.718000\n",
      "Epoch 15, CIFAR-10 Batch 2:  Loss:     0.4749 Validation Accuracy: 0.713400\n",
      "Epoch 15, CIFAR-10 Batch 3:  Loss:     0.4449 Validation Accuracy: 0.725600\n",
      "Epoch 15, CIFAR-10 Batch 4:  Loss:     0.6083 Validation Accuracy: 0.721400\n",
      "Epoch 15, CIFAR-10 Batch 5:  Loss:     0.4857 Validation Accuracy: 0.726600\n",
      "Epoch 16, CIFAR-10 Batch 1:  Loss:     0.5044 Validation Accuracy: 0.730000\n",
      "Epoch 16, CIFAR-10 Batch 2:  Loss:     0.4829 Validation Accuracy: 0.710000\n",
      "Epoch 16, CIFAR-10 Batch 3:  Loss:     0.4535 Validation Accuracy: 0.730400\n",
      "Epoch 16, CIFAR-10 Batch 4:  Loss:     0.5391 Validation Accuracy: 0.736600\n",
      "Epoch 16, CIFAR-10 Batch 5:  Loss:     0.4724 Validation Accuracy: 0.741400\n",
      "Epoch 17, CIFAR-10 Batch 1:  Loss:     0.5538 Validation Accuracy: 0.729200\n",
      "Epoch 17, CIFAR-10 Batch 2:  Loss:     0.4596 Validation Accuracy: 0.736800\n",
      "Epoch 17, CIFAR-10 Batch 3:  Loss:     0.4205 Validation Accuracy: 0.728000\n",
      "Epoch 17, CIFAR-10 Batch 4:  Loss:     0.4946 Validation Accuracy: 0.732400\n",
      "Epoch 17, CIFAR-10 Batch 5:  Loss:     0.4453 Validation Accuracy: 0.739600\n",
      "Epoch 18, CIFAR-10 Batch 1:  Loss:     0.4729 Validation Accuracy: 0.724200\n",
      "Epoch 18, CIFAR-10 Batch 2:  Loss:     0.4939 Validation Accuracy: 0.734200\n",
      "Epoch 18, CIFAR-10 Batch 3:  Loss:     0.3904 Validation Accuracy: 0.737400\n",
      "Epoch 18, CIFAR-10 Batch 4:  Loss:     0.5515 Validation Accuracy: 0.723800\n",
      "Epoch 18, CIFAR-10 Batch 5:  Loss:     0.4244 Validation Accuracy: 0.741600\n",
      "Epoch 19, CIFAR-10 Batch 1:  Loss:     0.4441 Validation Accuracy: 0.725400\n",
      "Epoch 19, CIFAR-10 Batch 2:  Loss:     0.4311 Validation Accuracy: 0.741600\n",
      "Epoch 19, CIFAR-10 Batch 3:  Loss:     0.3290 Validation Accuracy: 0.741400\n",
      "Epoch 19, CIFAR-10 Batch 4:  Loss:     0.4432 Validation Accuracy: 0.745800\n",
      "Epoch 19, CIFAR-10 Batch 5:  Loss:     0.4002 Validation Accuracy: 0.744200\n",
      "Epoch 20, CIFAR-10 Batch 1:  Loss:     0.4673 Validation Accuracy: 0.745000\n",
      "Epoch 20, CIFAR-10 Batch 2:  Loss:     0.4235 Validation Accuracy: 0.736200\n",
      "Epoch 20, CIFAR-10 Batch 3:  Loss:     0.3620 Validation Accuracy: 0.747000\n",
      "Epoch 20, CIFAR-10 Batch 4:  Loss:     0.4137 Validation Accuracy: 0.744600\n",
      "Epoch 20, CIFAR-10 Batch 5:  Loss:     0.4200 Validation Accuracy: 0.739600\n",
      "Epoch 21, CIFAR-10 Batch 1:  Loss:     0.4599 Validation Accuracy: 0.754400\n",
      "Epoch 21, CIFAR-10 Batch 2:  Loss:     0.3052 Validation Accuracy: 0.740800\n",
      "Epoch 21, CIFAR-10 Batch 3:  Loss:     0.3099 Validation Accuracy: 0.750400\n",
      "Epoch 21, CIFAR-10 Batch 4:  Loss:     0.3652 Validation Accuracy: 0.745000\n",
      "Epoch 21, CIFAR-10 Batch 5:  Loss:     0.4001 Validation Accuracy: 0.753200\n",
      "Epoch 22, CIFAR-10 Batch 1:  Loss:     0.4624 Validation Accuracy: 0.741600\n",
      "Epoch 22, CIFAR-10 Batch 2:  Loss:     0.3660 Validation Accuracy: 0.737200\n",
      "Epoch 22, CIFAR-10 Batch 3:  Loss:     0.2584 Validation Accuracy: 0.740600\n",
      "Epoch 22, CIFAR-10 Batch 4:  Loss:     0.3266 Validation Accuracy: 0.745200\n",
      "Epoch 22, CIFAR-10 Batch 5:  Loss:     0.4036 Validation Accuracy: 0.739800\n",
      "Epoch 23, CIFAR-10 Batch 1:  Loss:     0.3754 Validation Accuracy: 0.750200\n",
      "Epoch 23, CIFAR-10 Batch 2:  Loss:     0.3087 Validation Accuracy: 0.743000\n",
      "Epoch 23, CIFAR-10 Batch 3:  Loss:     0.2550 Validation Accuracy: 0.753800\n",
      "Epoch 23, CIFAR-10 Batch 4:  Loss:     0.3708 Validation Accuracy: 0.740600\n",
      "Epoch 23, CIFAR-10 Batch 5:  Loss:     0.3903 Validation Accuracy: 0.745200\n",
      "Epoch 24, CIFAR-10 Batch 1:  Loss:     0.3533 Validation Accuracy: 0.743600\n",
      "Epoch 24, CIFAR-10 Batch 2:  Loss:     0.3288 Validation Accuracy: 0.739000\n",
      "Epoch 24, CIFAR-10 Batch 3:  Loss:     0.2401 Validation Accuracy: 0.748400\n",
      "Epoch 24, CIFAR-10 Batch 4:  Loss:     0.3151 Validation Accuracy: 0.746200\n",
      "Epoch 24, CIFAR-10 Batch 5:  Loss:     0.3324 Validation Accuracy: 0.759400\n",
      "Epoch 25, CIFAR-10 Batch 1:  Loss:     0.4789 Validation Accuracy: 0.747800\n",
      "Epoch 25, CIFAR-10 Batch 2:  Loss:     0.3844 Validation Accuracy: 0.747200\n",
      "Epoch 25, CIFAR-10 Batch 3:  Loss:     0.2449 Validation Accuracy: 0.744000\n",
      "Epoch 25, CIFAR-10 Batch 4:  Loss:     0.3625 Validation Accuracy: 0.747800\n",
      "Epoch 25, CIFAR-10 Batch 5:  Loss:     0.3400 Validation Accuracy: 0.754400\n",
      "Epoch 26, CIFAR-10 Batch 1:  Loss:     0.3640 Validation Accuracy: 0.744000\n",
      "Epoch 26, CIFAR-10 Batch 2:  Loss:     0.3080 Validation Accuracy: 0.760200\n",
      "Epoch 26, CIFAR-10 Batch 3:  Loss:     0.1957 Validation Accuracy: 0.756200\n",
      "Epoch 26, CIFAR-10 Batch 4:  Loss:     0.3043 Validation Accuracy: 0.749000\n",
      "Epoch 26, CIFAR-10 Batch 5:  Loss:     0.2855 Validation Accuracy: 0.756200\n",
      "Epoch 27, CIFAR-10 Batch 1:  Loss:     0.3554 Validation Accuracy: 0.747600\n",
      "Epoch 27, CIFAR-10 Batch 2:  Loss:     0.3111 Validation Accuracy: 0.750800\n",
      "Epoch 27, CIFAR-10 Batch 3:  Loss:     0.2493 Validation Accuracy: 0.757800\n",
      "Epoch 27, CIFAR-10 Batch 4:  Loss:     0.2950 Validation Accuracy: 0.748600\n",
      "Epoch 27, CIFAR-10 Batch 5:  Loss:     0.3189 Validation Accuracy: 0.748200\n",
      "Epoch 28, CIFAR-10 Batch 1:  Loss:     0.3374 Validation Accuracy: 0.743600\n",
      "Epoch 28, CIFAR-10 Batch 2:  Loss:     0.3349 Validation Accuracy: 0.750800\n",
      "Epoch 28, CIFAR-10 Batch 3:  Loss:     0.2381 Validation Accuracy: 0.752200\n",
      "Epoch 28, CIFAR-10 Batch 4:  Loss:     0.2598 Validation Accuracy: 0.755400\n",
      "Epoch 28, CIFAR-10 Batch 5:  Loss:     0.2755 Validation Accuracy: 0.752600\n",
      "Epoch 29, CIFAR-10 Batch 1:  Loss:     0.3021 Validation Accuracy: 0.759200\n",
      "Epoch 29, CIFAR-10 Batch 2:  Loss:     0.3438 Validation Accuracy: 0.754600\n",
      "Epoch 29, CIFAR-10 Batch 3:  Loss:     0.2202 Validation Accuracy: 0.759000\n",
      "Epoch 29, CIFAR-10 Batch 4:  Loss:     0.3237 Validation Accuracy: 0.752000\n",
      "Epoch 29, CIFAR-10 Batch 5:  Loss:     0.2401 Validation Accuracy: 0.751400\n",
      "Epoch 30, CIFAR-10 Batch 1:  Loss:     0.3258 Validation Accuracy: 0.752200\n",
      "Epoch 30, CIFAR-10 Batch 2:  Loss:     0.3699 Validation Accuracy: 0.756000\n",
      "Epoch 30, CIFAR-10 Batch 3:  Loss:     0.1836 Validation Accuracy: 0.756600\n",
      "Epoch 30, CIFAR-10 Batch 4:  Loss:     0.2669 Validation Accuracy: 0.762400\n",
      "Epoch 30, CIFAR-10 Batch 5:  Loss:     0.2321 Validation Accuracy: 0.766000\n",
      "Epoch 31, CIFAR-10 Batch 1:  Loss:     0.3649 Validation Accuracy: 0.752800\n",
      "Epoch 31, CIFAR-10 Batch 2:  Loss:     0.2903 Validation Accuracy: 0.755200\n",
      "Epoch 31, CIFAR-10 Batch 3:  Loss:     0.1804 Validation Accuracy: 0.758200\n",
      "Epoch 31, CIFAR-10 Batch 4:  Loss:     0.2579 Validation Accuracy: 0.761000\n",
      "Epoch 31, CIFAR-10 Batch 5:  Loss:     0.2757 Validation Accuracy: 0.760600\n",
      "Epoch 32, CIFAR-10 Batch 1:  Loss:     0.2911 Validation Accuracy: 0.762000\n",
      "Epoch 32, CIFAR-10 Batch 2:  Loss:     0.3117 Validation Accuracy: 0.749200\n",
      "Epoch 32, CIFAR-10 Batch 3:  Loss:     0.1460 Validation Accuracy: 0.767200\n",
      "Epoch 32, CIFAR-10 Batch 4:  Loss:     0.2489 Validation Accuracy: 0.764400\n",
      "Epoch 32, CIFAR-10 Batch 5:  Loss:     0.2955 Validation Accuracy: 0.757400\n",
      "Epoch 33, CIFAR-10 Batch 1:  Loss:     0.2944 Validation Accuracy: 0.766400\n",
      "Epoch 33, CIFAR-10 Batch 2:  Loss:     0.3720 Validation Accuracy: 0.757200\n",
      "Epoch 33, CIFAR-10 Batch 3:  Loss:     0.1583 Validation Accuracy: 0.753800\n",
      "Epoch 33, CIFAR-10 Batch 4:  Loss:     0.2196 Validation Accuracy: 0.761000\n",
      "Epoch 33, CIFAR-10 Batch 5:  Loss:     0.2248 Validation Accuracy: 0.771400\n",
      "Epoch 34, CIFAR-10 Batch 1:  Loss:     0.3271 Validation Accuracy: 0.745800\n",
      "Epoch 34, CIFAR-10 Batch 2:  Loss:     0.2737 Validation Accuracy: 0.766800\n",
      "Epoch 34, CIFAR-10 Batch 3:  Loss:     0.1450 Validation Accuracy: 0.760200\n",
      "Epoch 34, CIFAR-10 Batch 4:  Loss:     0.2611 Validation Accuracy: 0.759600\n",
      "Epoch 34, CIFAR-10 Batch 5:  Loss:     0.2289 Validation Accuracy: 0.760200\n",
      "Epoch 35, CIFAR-10 Batch 1:  Loss:     0.3147 Validation Accuracy: 0.763000\n",
      "Epoch 35, CIFAR-10 Batch 2:  Loss:     0.2804 Validation Accuracy: 0.760000\n",
      "Epoch 35, CIFAR-10 Batch 3:  Loss:     0.1523 Validation Accuracy: 0.755600\n",
      "Epoch 35, CIFAR-10 Batch 4:  Loss:     0.2103 Validation Accuracy: 0.775400\n",
      "Epoch 35, CIFAR-10 Batch 5:  Loss:     0.2069 Validation Accuracy: 0.766200\n",
      "Epoch 36, CIFAR-10 Batch 1:  Loss:     0.3074 Validation Accuracy: 0.768800\n",
      "Epoch 36, CIFAR-10 Batch 2:  Loss:     0.2551 Validation Accuracy: 0.767600\n",
      "Epoch 36, CIFAR-10 Batch 3:  Loss:     0.1595 Validation Accuracy: 0.750800\n",
      "Epoch 36, CIFAR-10 Batch 4:  Loss:     0.2834 Validation Accuracy: 0.770200\n",
      "Epoch 36, CIFAR-10 Batch 5:  Loss:     0.2115 Validation Accuracy: 0.769800\n",
      "Epoch 37, CIFAR-10 Batch 1:  Loss:     0.3120 Validation Accuracy: 0.762800\n",
      "Epoch 37, CIFAR-10 Batch 2:  Loss:     0.3069 Validation Accuracy: 0.763600\n",
      "Epoch 37, CIFAR-10 Batch 3:  Loss:     0.1299 Validation Accuracy: 0.759200\n",
      "Epoch 37, CIFAR-10 Batch 4:  Loss:     0.2528 Validation Accuracy: 0.764800\n",
      "Epoch 37, CIFAR-10 Batch 5:  Loss:     0.2516 Validation Accuracy: 0.763400\n",
      "Epoch 38, CIFAR-10 Batch 1:  Loss:     0.2984 Validation Accuracy: 0.761800\n",
      "Epoch 38, CIFAR-10 Batch 2:  Loss:     0.2426 Validation Accuracy: 0.768000\n",
      "Epoch 38, CIFAR-10 Batch 3:  Loss:     0.1405 Validation Accuracy: 0.769400\n",
      "Epoch 38, CIFAR-10 Batch 4:  Loss:     0.2055 Validation Accuracy: 0.772800\n",
      "Epoch 38, CIFAR-10 Batch 5:  Loss:     0.2057 Validation Accuracy: 0.766400\n",
      "Epoch 39, CIFAR-10 Batch 1:  Loss:     0.2602 Validation Accuracy: 0.766600\n",
      "Epoch 39, CIFAR-10 Batch 2:  Loss:     0.2332 Validation Accuracy: 0.763000\n",
      "Epoch 39, CIFAR-10 Batch 3:  Loss:     0.1269 Validation Accuracy: 0.776000\n",
      "Epoch 39, CIFAR-10 Batch 4:  Loss:     0.1956 Validation Accuracy: 0.760000\n",
      "Epoch 39, CIFAR-10 Batch 5:  Loss:     0.1801 Validation Accuracy: 0.766600\n",
      "Epoch 40, CIFAR-10 Batch 1:  Loss:     0.4157 Validation Accuracy: 0.759200\n",
      "Epoch 40, CIFAR-10 Batch 2:  Loss:     0.2897 Validation Accuracy: 0.764200\n",
      "Epoch 40, CIFAR-10 Batch 3:  Loss:     0.1218 Validation Accuracy: 0.760400\n",
      "Epoch 40, CIFAR-10 Batch 4:  Loss:     0.2044 Validation Accuracy: 0.770000\n",
      "Epoch 40, CIFAR-10 Batch 5:  Loss:     0.1900 Validation Accuracy: 0.765800\n",
      "Epoch 41, CIFAR-10 Batch 1:  Loss:     0.3171 Validation Accuracy: 0.769800\n",
      "Epoch 41, CIFAR-10 Batch 2:  Loss:     0.2168 Validation Accuracy: 0.766000\n",
      "Epoch 41, CIFAR-10 Batch 3:  Loss:     0.1311 Validation Accuracy: 0.769600\n",
      "Epoch 41, CIFAR-10 Batch 4:  Loss:     0.1662 Validation Accuracy: 0.770200\n",
      "Epoch 41, CIFAR-10 Batch 5:  Loss:     0.2179 Validation Accuracy: 0.765600\n",
      "Epoch 42, CIFAR-10 Batch 1:  Loss:     0.2938 Validation Accuracy: 0.767600\n",
      "Epoch 42, CIFAR-10 Batch 2:  Loss:     0.3238 Validation Accuracy: 0.761400\n",
      "Epoch 42, CIFAR-10 Batch 3:  Loss:     0.1338 Validation Accuracy: 0.765600\n",
      "Epoch 42, CIFAR-10 Batch 4:  Loss:     0.2041 Validation Accuracy: 0.766200\n",
      "Epoch 42, CIFAR-10 Batch 5:  Loss:     0.1623 Validation Accuracy: 0.769800\n",
      "Epoch 43, CIFAR-10 Batch 1:  Loss:     0.3036 Validation Accuracy: 0.759800\n",
      "Epoch 43, CIFAR-10 Batch 2:  Loss:     0.2270 Validation Accuracy: 0.764000\n",
      "Epoch 43, CIFAR-10 Batch 3:  Loss:     0.1138 Validation Accuracy: 0.777200\n",
      "Epoch 43, CIFAR-10 Batch 4:  Loss:     0.1963 Validation Accuracy: 0.772800\n",
      "Epoch 43, CIFAR-10 Batch 5:  Loss:     0.2043 Validation Accuracy: 0.760800\n",
      "Epoch 44, CIFAR-10 Batch 1:  Loss:     0.2873 Validation Accuracy: 0.765000\n",
      "Epoch 44, CIFAR-10 Batch 2:  Loss:     0.3003 Validation Accuracy: 0.762200\n",
      "Epoch 44, CIFAR-10 Batch 3:  Loss:     0.1250 Validation Accuracy: 0.764400\n",
      "Epoch 44, CIFAR-10 Batch 4:  Loss:     0.1859 Validation Accuracy: 0.767600\n",
      "Epoch 44, CIFAR-10 Batch 5:  Loss:     0.1684 Validation Accuracy: 0.765400\n",
      "Epoch 45, CIFAR-10 Batch 1:  Loss:     0.2706 Validation Accuracy: 0.770400\n",
      "Epoch 45, CIFAR-10 Batch 2:  Loss:     0.2306 Validation Accuracy: 0.770600\n",
      "Epoch 45, CIFAR-10 Batch 3:  Loss:     0.1205 Validation Accuracy: 0.763000\n",
      "Epoch 45, CIFAR-10 Batch 4:  Loss:     0.1933 Validation Accuracy: 0.758200\n",
      "Epoch 45, CIFAR-10 Batch 5:  Loss:     0.1957 Validation Accuracy: 0.765800\n",
      "Epoch 46, CIFAR-10 Batch 1:  Loss:     0.2471 Validation Accuracy: 0.769600\n",
      "Epoch 46, CIFAR-10 Batch 2:  Loss:     0.2320 Validation Accuracy: 0.770400\n",
      "Epoch 46, CIFAR-10 Batch 3:  Loss:     0.1346 Validation Accuracy: 0.764000\n",
      "Epoch 46, CIFAR-10 Batch 4:  Loss:     0.2410 Validation Accuracy: 0.768600\n",
      "Epoch 46, CIFAR-10 Batch 5:  Loss:     0.1793 Validation Accuracy: 0.763000\n",
      "Epoch 47, CIFAR-10 Batch 1:  Loss:     0.2707 Validation Accuracy: 0.762400\n",
      "Epoch 47, CIFAR-10 Batch 2:  Loss:     0.2371 Validation Accuracy: 0.769200\n",
      "Epoch 47, CIFAR-10 Batch 3:  Loss:     0.1325 Validation Accuracy: 0.769800\n",
      "Epoch 47, CIFAR-10 Batch 4:  Loss:     0.1495 Validation Accuracy: 0.770000\n",
      "Epoch 47, CIFAR-10 Batch 5:  Loss:     0.1506 Validation Accuracy: 0.757000\n",
      "Epoch 48, CIFAR-10 Batch 1:  Loss:     0.2454 Validation Accuracy: 0.764600\n",
      "Epoch 48, CIFAR-10 Batch 2:  Loss:     0.1990 Validation Accuracy: 0.764000\n",
      "Epoch 48, CIFAR-10 Batch 3:  Loss:     0.1028 Validation Accuracy: 0.775400\n",
      "Epoch 48, CIFAR-10 Batch 4:  Loss:     0.2285 Validation Accuracy: 0.751200\n",
      "Epoch 48, CIFAR-10 Batch 5:  Loss:     0.1437 Validation Accuracy: 0.767400\n",
      "Epoch 49, CIFAR-10 Batch 1:  Loss:     0.3336 Validation Accuracy: 0.766600\n",
      "Epoch 49, CIFAR-10 Batch 2:  Loss:     0.1813 Validation Accuracy: 0.766600\n",
      "Epoch 49, CIFAR-10 Batch 3:  Loss:     0.1240 Validation Accuracy: 0.769200\n",
      "Epoch 49, CIFAR-10 Batch 4:  Loss:     0.2040 Validation Accuracy: 0.774200\n",
      "Epoch 49, CIFAR-10 Batch 5:  Loss:     0.1650 Validation Accuracy: 0.771400\n",
      "Epoch 50, CIFAR-10 Batch 1:  Loss:     0.2268 Validation Accuracy: 0.772200\n",
      "Epoch 50, CIFAR-10 Batch 2:  Loss:     0.2193 Validation Accuracy: 0.770400\n",
      "Epoch 50, CIFAR-10 Batch 3:  Loss:     0.1114 Validation Accuracy: 0.767400\n",
      "Epoch 50, CIFAR-10 Batch 4:  Loss:     0.1978 Validation Accuracy: 0.764400\n",
      "Epoch 50, CIFAR-10 Batch 5:  Loss:     0.1393 Validation Accuracy: 0.769400\n",
      "Epoch 51, CIFAR-10 Batch 1:  Loss:     0.1968 Validation Accuracy: 0.771600\n",
      "Epoch 51, CIFAR-10 Batch 2:  Loss:     0.2073 Validation Accuracy: 0.769200\n",
      "Epoch 51, CIFAR-10 Batch 3:  Loss:     0.1175 Validation Accuracy: 0.768000\n",
      "Epoch 51, CIFAR-10 Batch 4:  Loss:     0.2168 Validation Accuracy: 0.771400\n",
      "Epoch 51, CIFAR-10 Batch 5:  Loss:     0.1877 Validation Accuracy: 0.775000\n",
      "Epoch 52, CIFAR-10 Batch 1:  Loss:     0.2262 Validation Accuracy: 0.773600\n",
      "Epoch 52, CIFAR-10 Batch 2:  Loss:     0.2080 Validation Accuracy: 0.774000\n",
      "Epoch 52, CIFAR-10 Batch 3:  Loss:     0.0825 Validation Accuracy: 0.776800\n",
      "Epoch 52, CIFAR-10 Batch 4:  Loss:     0.2064 Validation Accuracy: 0.765600\n",
      "Epoch 52, CIFAR-10 Batch 5:  Loss:     0.1999 Validation Accuracy: 0.771000\n",
      "Epoch 53, CIFAR-10 Batch 1:  Loss:     0.2135 Validation Accuracy: 0.780000\n",
      "Epoch 53, CIFAR-10 Batch 2:  Loss:     0.1953 Validation Accuracy: 0.766800\n",
      "Epoch 53, CIFAR-10 Batch 3:  Loss:     0.0856 Validation Accuracy: 0.775200\n",
      "Epoch 53, CIFAR-10 Batch 4:  Loss:     0.1469 Validation Accuracy: 0.770200\n",
      "Epoch 53, CIFAR-10 Batch 5:  Loss:     0.1741 Validation Accuracy: 0.772200\n",
      "Epoch 54, CIFAR-10 Batch 1:  Loss:     0.2094 Validation Accuracy: 0.775400\n",
      "Epoch 54, CIFAR-10 Batch 2:  Loss:     0.2016 Validation Accuracy: 0.764200\n",
      "Epoch 54, CIFAR-10 Batch 3:  Loss:     0.1147 Validation Accuracy: 0.771600\n",
      "Epoch 54, CIFAR-10 Batch 4:  Loss:     0.1807 Validation Accuracy: 0.772400\n",
      "Epoch 54, CIFAR-10 Batch 5:  Loss:     0.1180 Validation Accuracy: 0.771400\n",
      "Epoch 55, CIFAR-10 Batch 1:  Loss:     0.1956 Validation Accuracy: 0.772800\n",
      "Epoch 55, CIFAR-10 Batch 2:  Loss:     0.1592 Validation Accuracy: 0.780200\n",
      "Epoch 55, CIFAR-10 Batch 3:  Loss:     0.1288 Validation Accuracy: 0.761000\n",
      "Epoch 55, CIFAR-10 Batch 4:  Loss:     0.1372 Validation Accuracy: 0.774200\n",
      "Epoch 55, CIFAR-10 Batch 5:  Loss:     0.2206 Validation Accuracy: 0.768800\n",
      "Epoch 56, CIFAR-10 Batch 1:  Loss:     0.1690 Validation Accuracy: 0.780600\n",
      "Epoch 56, CIFAR-10 Batch 2:  Loss:     0.1624 Validation Accuracy: 0.782000\n",
      "Epoch 56, CIFAR-10 Batch 3:  Loss:     0.1012 Validation Accuracy: 0.769000\n",
      "Epoch 56, CIFAR-10 Batch 4:  Loss:     0.1617 Validation Accuracy: 0.770400\n",
      "Epoch 56, CIFAR-10 Batch 5:  Loss:     0.1547 Validation Accuracy: 0.782600\n",
      "Epoch 57, CIFAR-10 Batch 1:  Loss:     0.1779 Validation Accuracy: 0.779200\n",
      "Epoch 57, CIFAR-10 Batch 2:  Loss:     0.1859 Validation Accuracy: 0.773800\n",
      "Epoch 57, CIFAR-10 Batch 3:  Loss:     0.1358 Validation Accuracy: 0.770000\n",
      "Epoch 57, CIFAR-10 Batch 4:  Loss:     0.1325 Validation Accuracy: 0.778800\n",
      "Epoch 57, CIFAR-10 Batch 5:  Loss:     0.1370 Validation Accuracy: 0.775800\n",
      "Epoch 58, CIFAR-10 Batch 1:  Loss:     0.1919 Validation Accuracy: 0.772200\n",
      "Epoch 58, CIFAR-10 Batch 2:  Loss:     0.1895 Validation Accuracy: 0.774200\n",
      "Epoch 58, CIFAR-10 Batch 3:  Loss:     0.0862 Validation Accuracy: 0.774600\n",
      "Epoch 58, CIFAR-10 Batch 4:  Loss:     0.1527 Validation Accuracy: 0.776600\n",
      "Epoch 58, CIFAR-10 Batch 5:  Loss:     0.1258 Validation Accuracy: 0.776800\n",
      "Epoch 59, CIFAR-10 Batch 1:  Loss:     0.1895 Validation Accuracy: 0.775800\n",
      "Epoch 59, CIFAR-10 Batch 2:  Loss:     0.1969 Validation Accuracy: 0.775400\n",
      "Epoch 59, CIFAR-10 Batch 3:  Loss:     0.1078 Validation Accuracy: 0.767000\n",
      "Epoch 59, CIFAR-10 Batch 4:  Loss:     0.1417 Validation Accuracy: 0.774200\n",
      "Epoch 59, CIFAR-10 Batch 5:  Loss:     0.1492 Validation Accuracy: 0.772400\n",
      "Epoch 60, CIFAR-10 Batch 1:  Loss:     0.1600 Validation Accuracy: 0.770000\n",
      "Epoch 60, CIFAR-10 Batch 2:  Loss:     0.1894 Validation Accuracy: 0.772600\n",
      "Epoch 60, CIFAR-10 Batch 3:  Loss:     0.0901 Validation Accuracy: 0.767800\n",
      "Epoch 60, CIFAR-10 Batch 4:  Loss:     0.1290 Validation Accuracy: 0.779400\n",
      "Epoch 60, CIFAR-10 Batch 5:  Loss:     0.1332 Validation Accuracy: 0.776600\n"
     ]
    }
   ],
   "source": [
    "\"\"\"\n",
    "DON'T MODIFY ANYTHING IN THIS CELL\n",
    "\"\"\"\n",
    "save_model_path = './image_classification'\n",
    "\n",
    "print('Training...')\n",
    "with tf.Session() as sess:\n",
    "    # Initializing the variables\n",
    "    sess.run(tf.global_variables_initializer())\n",
    "    \n",
    "    # Training cycle\n",
    "    for epoch in range(epochs):\n",
    "        # Loop over all batches\n",
    "        n_batches = 5\n",
    "        for batch_i in range(1, n_batches + 1):\n",
    "            for batch_features, batch_labels in helper.load_preprocess_training_batch(batch_i, batch_size):\n",
    "                train_neural_network(sess, optimizer, keep_probability, batch_features, batch_labels)\n",
    "            print('Epoch {:>2}, CIFAR-10 Batch {}:  '.format(epoch + 1, batch_i), end='')\n",
    "            print_stats(sess, batch_features, batch_labels, cost, accuracy)\n",
    "            \n",
    "    # Save Model\n",
    "    saver = tf.train.Saver()\n",
    "    save_path = saver.save(sess, save_model_path)"
   ]
  },
  {
   "cell_type": "markdown",
   "metadata": {},
   "source": [
    "# Checkpoint\n",
    "The model has been saved to disk.\n",
    "## Test Model\n",
    "Test your model against the test dataset.  This will be your final accuracy. You should have an accuracy greater than 50%. If you don't, keep tweaking the model architecture and parameters."
   ]
  },
  {
   "cell_type": "code",
   "execution_count": 13,
   "metadata": {
    "collapsed": false
   },
   "outputs": [
    {
     "name": "stdout",
     "output_type": "stream",
     "text": [
      "Testing Accuracy: 0.7693073248407644\n",
      "\n"
     ]
    },
    {
     "data": {
      "image/png": "[encoded data removed]",
      "text/plain": [
       "<matplotlib.figure.Figure at 0xa54a1d0>"
      ]
     },
     "metadata": {
      "image/png": {
       "height": 319,
       "width": 355
      }
     },
     "output_type": "display_data"
    }
   ],
   "source": [
    "\"\"\"\n",
    "DON'T MODIFY ANYTHING IN THIS CELL\n",
    "\"\"\"\n",
    "%matplotlib inline\n",
    "%config InlineBackend.figure_format = 'retina'\n",
    "\n",
    "import tensorflow as tf\n",
    "import pickle\n",
    "import helper\n",
    "import random\n",
    "\n",
    "# Set batch size if not already set\n",
    "try:\n",
    "    if batch_size:\n",
    "        pass\n",
    "except NameError:\n",
    "    batch_size = 64\n",
    "\n",
    "save_model_path = './image_classification'\n",
    "n_samples = 4\n",
    "top_n_predictions = 3\n",
    "\n",
    "def test_model():\n",
    "    \"\"\"\n",
    "    Test the saved model against the test dataset\n",
    "    \"\"\"\n",
    "\n",
    "    test_features, test_labels = pickle.load(open('preprocess_training.p', mode='rb'))\n",
    "    loaded_graph = tf.Graph()\n",
    "\n",
    "    with tf.Session(graph=loaded_graph) as sess:\n",
    "        # Load model\n",
    "        loader = tf.train.import_meta_graph(save_model_path + '.meta')\n",
    "        loader.restore(sess, save_model_path)\n",
    "\n",
    "        # Get Tensors from loaded model\n",
    "        loaded_x = loaded_graph.get_tensor_by_name('x:0')\n",
    "        loaded_y = loaded_graph.get_tensor_by_name('y:0')\n",
    "        loaded_keep_prob = loaded_graph.get_tensor_by_name('keep_prob:0')\n",
    "        loaded_logits = loaded_graph.get_tensor_by_name('logits:0')\n",
    "        loaded_acc = loaded_graph.get_tensor_by_name('accuracy:0')\n",
    "        \n",
    "        # Get accuracy in batches for memory limitations\n",
    "        test_batch_acc_total = 0\n",
    "        test_batch_count = 0\n",
    "        \n",
    "        for train_feature_batch, train_label_batch in helper.batch_features_labels(test_features, test_labels, batch_size):\n",
    "            test_batch_acc_total += sess.run(\n",
    "                loaded_acc,\n",
    "                feed_dict={loaded_x: train_feature_batch, loaded_y: train_label_batch, loaded_keep_prob: 1.0})\n",
    "            test_batch_count += 1\n",
    "\n",
    "        print('Testing Accuracy: {}\\n'.format(test_batch_acc_total/test_batch_count))\n",
    "\n",
    "        # Print Random Samples\n",
    "        random_test_features, random_test_labels = tuple(zip(*random.sample(list(zip(test_features, test_labels)), n_samples)))\n",
    "        random_test_predictions = sess.run(\n",
    "            tf.nn.top_k(tf.nn.softmax(loaded_logits), top_n_predictions),\n",
    "            feed_dict={loaded_x: random_test_features, loaded_y: random_test_labels, loaded_keep_prob: 1.0})\n",
    "        helper.display_image_predictions(random_test_features, random_test_labels, random_test_predictions)\n",
    "\n",
    "\n",
    "test_model()"
   ]
  },
  {
   "cell_type": "markdown",
   "metadata": {},
   "source": [
    "## Why 50-70% Accuracy?\n",
    "You might be wondering why you can't get an accuracy any higher. First things first, 50% isn't bad for a simple CNN.  Pure guessing would get you 10% accuracy. However, you might notice people are getting scores [well above 70%](http://rodrigob.github.io/are_we_there_yet/build/classification_datasets_results.html#43494641522d3130).  That's because we haven't taught you all there is to know about neural networks. We still need to cover a few more techniques.\n",
    "## Submitting This Project\n",
    "When submitting this project, make sure to run all the cells before saving the notebook.  Save the notebook file as \"dlnd_image_classification.ipynb\" and save it as a HTML file under \"File\" -> \"Download as\".  Include the \"helper.py\" and \"problem_unittests.py\" files in your submission."
   ]
  }
 ],
 "metadata": {
  "kernelspec": {
   "display_name": "Python 3",
   "language": "python",
   "name": "python3"
  },
  "language_info": {
   "codemirror_mode": {
    "name": "ipython",
    "version": 3
   },
   "file_extension": ".py",
   "mimetype": "text/x-python",
   "name": "python",
   "nbconvert_exporter": "python",
   "pygments_lexer": "ipython3",
   "version": "3.5.2"
  }
 },
 "nbformat": 4,
 "nbformat_minor": 0
}
